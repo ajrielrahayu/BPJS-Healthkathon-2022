{
  "nbformat": 4,
  "nbformat_minor": 0,
  "metadata": {
    "colab": {
      "provenance": [],
      "collapsed_sections": []
    },
    "kernelspec": {
      "name": "python3",
      "display_name": "Python 3"
    },
    "language_info": {
      "name": "python"
    }
  },
  "cells": [
    {
      "cell_type": "code",
      "execution_count": 1,
      "metadata": {
        "id": "4hWD-qYtORoB"
      },
      "outputs": [],
      "source": [
        "import numpy as np\n",
        "import pandas as pd\n"
      ]
    },
    {
      "cell_type": "markdown",
      "source": [
        "**Data Preparation**"
      ],
      "metadata": {
        "id": "DF9Z1UyqRlcX"
      }
    },
    {
      "cell_type": "code",
      "source": [
        "data = pd.read_csv(\"/content/drive/MyDrive/Healthkathon_2022/sampling_healtkathon2022/sampling_healtkathon2022.csv\")\n",
        "data.head()"
      ],
      "metadata": {
        "id": "gfo81EqhOWES",
        "colab": {
          "base_uri": "https://localhost:8080/",
          "height": 560
        },
        "outputId": "111e29df-720d-456e-c487-2fbee9aa81af"
      },
      "execution_count": 2,
      "outputs": [
        {
          "output_type": "execute_result",
          "data": {
            "text/plain": [
              "        id  id_peserta  dati2 typefaskes  usia jenkel  pisat  \\\n",
              "0   165666         486     17         KL    48      P    1.0   \n",
              "1  1010828         520     17          A    63      L    1.0   \n",
              "2   166042         523     17         KL    53      P    1.0   \n",
              "3   168937         549     17         KL    54      P    1.0   \n",
              "4  1005899         549     17          A    53      P    1.0   \n",
              "\n",
              "                  tgldatang                 tglpulang  jenispel  ...  \\\n",
              "0  2018-07-25T17:00:00.000Z  2018-07-25T17:00:00.000Z         2  ...   \n",
              "1  2019-05-27T17:00:00.000Z  2019-05-30T17:00:00.000Z         1  ...   \n",
              "2  2019-07-16T17:00:00.000Z  2019-07-16T17:00:00.000Z         2  ...   \n",
              "3  2019-10-17T17:00:00.000Z  2019-10-17T17:00:00.000Z         2  ...   \n",
              "4  2018-04-18T17:00:00.000Z  2018-04-18T17:00:00.000Z         2  ...   \n",
              "\n",
              "        biaya jenispulang         cbg  kelasrawat  kdsa  kdsp  kdsr  kdsi  \\\n",
              "0    184300.0         1.0    Q-5-42-0           3  None  None  None  None   \n",
              "1  10628400.0         1.0  D-4-13-III           1  None  None  None  None   \n",
              "2    187300.0         1.0    Q-5-44-0           3  None  None  None  None   \n",
              "3    187300.0         1.0    Q-5-44-0           3  None  None  None  None   \n",
              "4    381600.0         1.0    Q-5-44-0           3  None  None  None  None   \n",
              "\n",
              "   kdsd label  \n",
              "0  None     0  \n",
              "1  None     0  \n",
              "2  None     0  \n",
              "3  None     0  \n",
              "4  None     0  \n",
              "\n",
              "[5 rows x 22 columns]"
            ],
            "text/html": [
              "\n",
              "  <div id=\"df-36a2ec35-ddfd-40d4-919d-3bec1536cc5f\">\n",
              "    <div class=\"colab-df-container\">\n",
              "      <div>\n",
              "<style scoped>\n",
              "    .dataframe tbody tr th:only-of-type {\n",
              "        vertical-align: middle;\n",
              "    }\n",
              "\n",
              "    .dataframe tbody tr th {\n",
              "        vertical-align: top;\n",
              "    }\n",
              "\n",
              "    .dataframe thead th {\n",
              "        text-align: right;\n",
              "    }\n",
              "</style>\n",
              "<table border=\"1\" class=\"dataframe\">\n",
              "  <thead>\n",
              "    <tr style=\"text-align: right;\">\n",
              "      <th></th>\n",
              "      <th>id</th>\n",
              "      <th>id_peserta</th>\n",
              "      <th>dati2</th>\n",
              "      <th>typefaskes</th>\n",
              "      <th>usia</th>\n",
              "      <th>jenkel</th>\n",
              "      <th>pisat</th>\n",
              "      <th>tgldatang</th>\n",
              "      <th>tglpulang</th>\n",
              "      <th>jenispel</th>\n",
              "      <th>...</th>\n",
              "      <th>biaya</th>\n",
              "      <th>jenispulang</th>\n",
              "      <th>cbg</th>\n",
              "      <th>kelasrawat</th>\n",
              "      <th>kdsa</th>\n",
              "      <th>kdsp</th>\n",
              "      <th>kdsr</th>\n",
              "      <th>kdsi</th>\n",
              "      <th>kdsd</th>\n",
              "      <th>label</th>\n",
              "    </tr>\n",
              "  </thead>\n",
              "  <tbody>\n",
              "    <tr>\n",
              "      <th>0</th>\n",
              "      <td>165666</td>\n",
              "      <td>486</td>\n",
              "      <td>17</td>\n",
              "      <td>KL</td>\n",
              "      <td>48</td>\n",
              "      <td>P</td>\n",
              "      <td>1.0</td>\n",
              "      <td>2018-07-25T17:00:00.000Z</td>\n",
              "      <td>2018-07-25T17:00:00.000Z</td>\n",
              "      <td>2</td>\n",
              "      <td>...</td>\n",
              "      <td>184300.0</td>\n",
              "      <td>1.0</td>\n",
              "      <td>Q-5-42-0</td>\n",
              "      <td>3</td>\n",
              "      <td>None</td>\n",
              "      <td>None</td>\n",
              "      <td>None</td>\n",
              "      <td>None</td>\n",
              "      <td>None</td>\n",
              "      <td>0</td>\n",
              "    </tr>\n",
              "    <tr>\n",
              "      <th>1</th>\n",
              "      <td>1010828</td>\n",
              "      <td>520</td>\n",
              "      <td>17</td>\n",
              "      <td>A</td>\n",
              "      <td>63</td>\n",
              "      <td>L</td>\n",
              "      <td>1.0</td>\n",
              "      <td>2019-05-27T17:00:00.000Z</td>\n",
              "      <td>2019-05-30T17:00:00.000Z</td>\n",
              "      <td>1</td>\n",
              "      <td>...</td>\n",
              "      <td>10628400.0</td>\n",
              "      <td>1.0</td>\n",
              "      <td>D-4-13-III</td>\n",
              "      <td>1</td>\n",
              "      <td>None</td>\n",
              "      <td>None</td>\n",
              "      <td>None</td>\n",
              "      <td>None</td>\n",
              "      <td>None</td>\n",
              "      <td>0</td>\n",
              "    </tr>\n",
              "    <tr>\n",
              "      <th>2</th>\n",
              "      <td>166042</td>\n",
              "      <td>523</td>\n",
              "      <td>17</td>\n",
              "      <td>KL</td>\n",
              "      <td>53</td>\n",
              "      <td>P</td>\n",
              "      <td>1.0</td>\n",
              "      <td>2019-07-16T17:00:00.000Z</td>\n",
              "      <td>2019-07-16T17:00:00.000Z</td>\n",
              "      <td>2</td>\n",
              "      <td>...</td>\n",
              "      <td>187300.0</td>\n",
              "      <td>1.0</td>\n",
              "      <td>Q-5-44-0</td>\n",
              "      <td>3</td>\n",
              "      <td>None</td>\n",
              "      <td>None</td>\n",
              "      <td>None</td>\n",
              "      <td>None</td>\n",
              "      <td>None</td>\n",
              "      <td>0</td>\n",
              "    </tr>\n",
              "    <tr>\n",
              "      <th>3</th>\n",
              "      <td>168937</td>\n",
              "      <td>549</td>\n",
              "      <td>17</td>\n",
              "      <td>KL</td>\n",
              "      <td>54</td>\n",
              "      <td>P</td>\n",
              "      <td>1.0</td>\n",
              "      <td>2019-10-17T17:00:00.000Z</td>\n",
              "      <td>2019-10-17T17:00:00.000Z</td>\n",
              "      <td>2</td>\n",
              "      <td>...</td>\n",
              "      <td>187300.0</td>\n",
              "      <td>1.0</td>\n",
              "      <td>Q-5-44-0</td>\n",
              "      <td>3</td>\n",
              "      <td>None</td>\n",
              "      <td>None</td>\n",
              "      <td>None</td>\n",
              "      <td>None</td>\n",
              "      <td>None</td>\n",
              "      <td>0</td>\n",
              "    </tr>\n",
              "    <tr>\n",
              "      <th>4</th>\n",
              "      <td>1005899</td>\n",
              "      <td>549</td>\n",
              "      <td>17</td>\n",
              "      <td>A</td>\n",
              "      <td>53</td>\n",
              "      <td>P</td>\n",
              "      <td>1.0</td>\n",
              "      <td>2018-04-18T17:00:00.000Z</td>\n",
              "      <td>2018-04-18T17:00:00.000Z</td>\n",
              "      <td>2</td>\n",
              "      <td>...</td>\n",
              "      <td>381600.0</td>\n",
              "      <td>1.0</td>\n",
              "      <td>Q-5-44-0</td>\n",
              "      <td>3</td>\n",
              "      <td>None</td>\n",
              "      <td>None</td>\n",
              "      <td>None</td>\n",
              "      <td>None</td>\n",
              "      <td>None</td>\n",
              "      <td>0</td>\n",
              "    </tr>\n",
              "  </tbody>\n",
              "</table>\n",
              "<p>5 rows × 22 columns</p>\n",
              "</div>\n",
              "      <button class=\"colab-df-convert\" onclick=\"convertToInteractive('df-36a2ec35-ddfd-40d4-919d-3bec1536cc5f')\"\n",
              "              title=\"Convert this dataframe to an interactive table.\"\n",
              "              style=\"display:none;\">\n",
              "        \n",
              "  <svg xmlns=\"http://www.w3.org/2000/svg\" height=\"24px\"viewBox=\"0 0 24 24\"\n",
              "       width=\"24px\">\n",
              "    <path d=\"M0 0h24v24H0V0z\" fill=\"none\"/>\n",
              "    <path d=\"M18.56 5.44l.94 2.06.94-2.06 2.06-.94-2.06-.94-.94-2.06-.94 2.06-2.06.94zm-11 1L8.5 8.5l.94-2.06 2.06-.94-2.06-.94L8.5 2.5l-.94 2.06-2.06.94zm10 10l.94 2.06.94-2.06 2.06-.94-2.06-.94-.94-2.06-.94 2.06-2.06.94z\"/><path d=\"M17.41 7.96l-1.37-1.37c-.4-.4-.92-.59-1.43-.59-.52 0-1.04.2-1.43.59L10.3 9.45l-7.72 7.72c-.78.78-.78 2.05 0 2.83L4 21.41c.39.39.9.59 1.41.59.51 0 1.02-.2 1.41-.59l7.78-7.78 2.81-2.81c.8-.78.8-2.07 0-2.86zM5.41 20L4 18.59l7.72-7.72 1.47 1.35L5.41 20z\"/>\n",
              "  </svg>\n",
              "      </button>\n",
              "      \n",
              "  <style>\n",
              "    .colab-df-container {\n",
              "      display:flex;\n",
              "      flex-wrap:wrap;\n",
              "      gap: 12px;\n",
              "    }\n",
              "\n",
              "    .colab-df-convert {\n",
              "      background-color: #E8F0FE;\n",
              "      border: none;\n",
              "      border-radius: 50%;\n",
              "      cursor: pointer;\n",
              "      display: none;\n",
              "      fill: #1967D2;\n",
              "      height: 32px;\n",
              "      padding: 0 0 0 0;\n",
              "      width: 32px;\n",
              "    }\n",
              "\n",
              "    .colab-df-convert:hover {\n",
              "      background-color: #E2EBFA;\n",
              "      box-shadow: 0px 1px 2px rgba(60, 64, 67, 0.3), 0px 1px 3px 1px rgba(60, 64, 67, 0.15);\n",
              "      fill: #174EA6;\n",
              "    }\n",
              "\n",
              "    [theme=dark] .colab-df-convert {\n",
              "      background-color: #3B4455;\n",
              "      fill: #D2E3FC;\n",
              "    }\n",
              "\n",
              "    [theme=dark] .colab-df-convert:hover {\n",
              "      background-color: #434B5C;\n",
              "      box-shadow: 0px 1px 3px 1px rgba(0, 0, 0, 0.15);\n",
              "      filter: drop-shadow(0px 1px 2px rgba(0, 0, 0, 0.3));\n",
              "      fill: #FFFFFF;\n",
              "    }\n",
              "  </style>\n",
              "\n",
              "      <script>\n",
              "        const buttonEl =\n",
              "          document.querySelector('#df-36a2ec35-ddfd-40d4-919d-3bec1536cc5f button.colab-df-convert');\n",
              "        buttonEl.style.display =\n",
              "          google.colab.kernel.accessAllowed ? 'block' : 'none';\n",
              "\n",
              "        async function convertToInteractive(key) {\n",
              "          const element = document.querySelector('#df-36a2ec35-ddfd-40d4-919d-3bec1536cc5f');\n",
              "          const dataTable =\n",
              "            await google.colab.kernel.invokeFunction('convertToInteractive',\n",
              "                                                     [key], {});\n",
              "          if (!dataTable) return;\n",
              "\n",
              "          const docLinkHtml = 'Like what you see? Visit the ' +\n",
              "            '<a target=\"_blank\" href=https://colab.research.google.com/notebooks/data_table.ipynb>data table notebook</a>'\n",
              "            + ' to learn more about interactive tables.';\n",
              "          element.innerHTML = '';\n",
              "          dataTable['output_type'] = 'display_data';\n",
              "          await google.colab.output.renderOutput(dataTable, element);\n",
              "          const docLink = document.createElement('div');\n",
              "          docLink.innerHTML = docLinkHtml;\n",
              "          element.appendChild(docLink);\n",
              "        }\n",
              "      </script>\n",
              "    </div>\n",
              "  </div>\n",
              "  "
            ]
          },
          "metadata": {},
          "execution_count": 2
        }
      ]
    },
    {
      "cell_type": "code",
      "source": [
        "data.shape"
      ],
      "metadata": {
        "id": "FiTQiDPQTqKf"
      },
      "execution_count": null,
      "outputs": []
    },
    {
      "cell_type": "code",
      "source": [
        "diagnosa = pd.read_csv(\"/content/drive/MyDrive/Healthkathon_2022/sampling_healthkathon2022_diagnosa/sampling_healthkathon2022_diagnosa.csv\")\n",
        "diagnosa.head()"
      ],
      "metadata": {
        "id": "VUE75cOiObwC"
      },
      "execution_count": null,
      "outputs": []
    },
    {
      "cell_type": "code",
      "source": [
        "diagnosa.shape"
      ],
      "metadata": {
        "id": "Ui17dPE7TrBv"
      },
      "execution_count": null,
      "outputs": []
    },
    {
      "cell_type": "code",
      "source": [
        "proc = pd.read_csv(\"/content/drive/MyDrive/Healthkathon_2022/sampling_healthkathon2022_procedure/sampling_healthkathon2022_procedure.csv\")\n",
        "proc.head()"
      ],
      "metadata": {
        "id": "7-uXdCflObzL"
      },
      "execution_count": null,
      "outputs": []
    },
    {
      "cell_type": "code",
      "source": [
        "proc.shape"
      ],
      "metadata": {
        "id": "H2VcpozCTrtB"
      },
      "execution_count": null,
      "outputs": []
    },
    {
      "cell_type": "markdown",
      "source": [
        "**Data Prepocessing**"
      ],
      "metadata": {
        "id": "Sd0ro5g7R7ab"
      }
    },
    {
      "cell_type": "code",
      "source": [
        "#Menghitung jumlah hari pasien menginap di rumah sakit\n",
        "from datetime import datetime\n",
        "data[\"tgldatang\"] = pd.to_datetime(data[\"tgldatang\"])\n",
        "data[\"tglpulang\"] = pd.to_datetime(data[\"tglpulang\"])"
      ],
      "metadata": {
        "id": "UCBe6ClmOb2L"
      },
      "execution_count": null,
      "outputs": []
    },
    {
      "cell_type": "code",
      "source": [
        "lama =data[\"tglpulang\"].dt.date - data[\"tgldatang\"].dt.date\n",
        "lama = lama.dt.days\n",
        "delta = pd.DataFrame(lama, columns = [\"lama\"])"
      ],
      "metadata": {
        "id": "jzlKFQjbOb4z"
      },
      "execution_count": null,
      "outputs": []
    },
    {
      "cell_type": "code",
      "source": [
        "data1 = data.drop(columns = [\"label\", \"tgldatang\", \"tglpulang\"])\n",
        "data1 = pd.concat([data1, delta], axis = 1)"
      ],
      "metadata": {
        "id": "MyjqVraDOb7b"
      },
      "execution_count": null,
      "outputs": []
    },
    {
      "cell_type": "code",
      "source": [
        "#Menghitung jumlah diagnosa yang diberikan kepada pasien\n",
        "diag = diagnosa.pivot_table(columns=['id'], aggfunc='size')\n",
        "diag = diag.reset_index()\n",
        "diag.columns = [\"id\", \"jml_diag\"]\n"
      ],
      "metadata": {
        "id": "5YkeOlwFOb-G"
      },
      "execution_count": null,
      "outputs": []
    },
    {
      "cell_type": "code",
      "source": [
        "df = pd.merge(data1, diag, on = \"id\", how = \"left\")\n",
        "df.shape"
      ],
      "metadata": {
        "id": "e5m_7eO2OcAm"
      },
      "execution_count": null,
      "outputs": []
    },
    {
      "cell_type": "code",
      "source": [
        "#Menghitung jumlah prosedure yang diberikan kepada pasien\n",
        "proc = proc.pivot_table(columns=['id'], aggfunc='size')\n",
        "proc = proc.reset_index()\n",
        "proc.columns = [\"id\", \"jml_procc\"]"
      ],
      "metadata": {
        "id": "gTW3jz0OyaqG"
      },
      "execution_count": null,
      "outputs": []
    },
    {
      "cell_type": "code",
      "source": [
        "proc = proc.drop_duplicates(subset = [\"id\"])\n",
        "proc.shape"
      ],
      "metadata": {
        "id": "jAxItdgxya5K"
      },
      "execution_count": null,
      "outputs": []
    },
    {
      "cell_type": "code",
      "source": [
        "df = pd.merge(df, proc, on = \"id\", how = \"left\")\n",
        "df.shape"
      ],
      "metadata": {
        "id": "mbx2WpuDyoe8"
      },
      "execution_count": null,
      "outputs": []
    },
    {
      "cell_type": "code",
      "source": [
        "df.isna().sum()"
      ],
      "metadata": {
        "id": "pXjubOZMOcC7"
      },
      "execution_count": null,
      "outputs": []
    },
    {
      "cell_type": "code",
      "source": [
        "# Memfilter data yang kosong\n",
        "df[\"jenkel\"] = df[\"jenkel\"].fillna(\"p\")\n",
        "df[\"pisat\"] = df[\"pisat\"].fillna(0)\n",
        "df[\"politujuan\"] = df[\"politujuan\"].fillna(\"tidak\")\n",
        "df[\"biaya\"] = df[\"biaya\"].fillna(237150.0)\n",
        "df[\"jenispulang\"] = df[\"jenispulang\"].fillna(1.0)\n",
        "df[\"kdsa\"] = df[\"kdsa\"].fillna(\"None\")\n",
        "df[\"kdsp\"] = df[\"kdsp\"].fillna(\"None\")\n",
        "df[\"kdsr\"] = df[\"kdsr\"].fillna(\"None\")\n",
        "df[\"kdsi\"] = df[\"kdsi\"].fillna(\"None\")\n",
        "df[\"kdsd\"] = df[\"kdsd\"].fillna(\"None\")\n",
        "df[\"jml_diag\"] = df[\"jml_diag\"].fillna(0)\n",
        "df[\"diagfktp\"] = df[\"diagfktp\"].fillna(\"P03.4\")\n",
        "df[\"jml_procc\"] = df[\"jml_procc\"].fillna(0)"
      ],
      "metadata": {
        "id": "TI-UOmb1OcFb"
      },
      "execution_count": null,
      "outputs": []
    },
    {
      "cell_type": "code",
      "source": [
        "df.info()"
      ],
      "metadata": {
        "id": "a154NwVaOcHw"
      },
      "execution_count": null,
      "outputs": []
    },
    {
      "cell_type": "code",
      "source": [
        "# Mengkonversi atribut tipe data string ke tipe data float\n",
        "df_str = df[[\"typefaskes\", \"jenkel\", \"politujuan\", \"diagfktp\", \"cbg\",\"kdsa\",\"kdsp\", \"kdsr\", \"kdsi\", \"kdsd\"]]\n",
        "df_str = df_str.apply(lambda x: pd.factorize(x)[0])\n",
        "df_str.head()"
      ],
      "metadata": {
        "id": "BBglrox4OcKS"
      },
      "execution_count": null,
      "outputs": []
    },
    {
      "cell_type": "code",
      "source": [
        "#Memisahkan data float dan int\n",
        "df_int = df[[\"dati2\", \"usia\", \"jenispel\",\"pisat\", \"biaya\", \"jenispulang\", \"kelasrawat\", \"lama\",  \"jml_diag\"]]\n",
        "df_int.head()"
      ],
      "metadata": {
        "id": "PGcUr-G-OcM5"
      },
      "execution_count": null,
      "outputs": []
    },
    {
      "cell_type": "code",
      "source": [
        "data_pre = pd.concat([df_int, df_str], axis = 1)\n",
        "data_pre.head()"
      ],
      "metadata": {
        "id": "JNX4Q7T7OcPY"
      },
      "execution_count": null,
      "outputs": []
    },
    {
      "cell_type": "code",
      "source": [
        "label = data[[\"label\"]]\n",
        "df = pd.concat([data_pre, label], axis = 1)\n",
        "df.shape"
      ],
      "metadata": {
        "id": "b6XEk7YVOcRj"
      },
      "execution_count": null,
      "outputs": []
    },
    {
      "cell_type": "code",
      "source": [
        "atribut = df.drop(columns = [\"label\"])\n",
        "label = df[\"label\"]"
      ],
      "metadata": {
        "id": "jazoefV1OcT2"
      },
      "execution_count": null,
      "outputs": []
    },
    {
      "cell_type": "code",
      "source": [
        "# Melakukan standarisasi data\n",
        "from sklearn.preprocessing import StandardScaler\n",
        "from sklearn import preprocessing\n",
        "scaler = StandardScaler()\n",
        "scaler.fit(atribut)\n",
        "atribut1 = scaler.transform(atribut)\n",
        "atribut1 = pd.DataFrame(atribut1, index = atribut.index, columns = atribut.columns)\n",
        "atribut1.head()"
      ],
      "metadata": {
        "id": "ITRnlv44OcWI"
      },
      "execution_count": null,
      "outputs": []
    },
    {
      "cell_type": "markdown",
      "source": [
        "**Data Processing**"
      ],
      "metadata": {
        "id": "g2F1ACIovngZ"
      }
    },
    {
      "cell_type": "code",
      "source": [
        "# Melakukan seleksi atribut dan label\n",
        "x_train = atribut1\n",
        "y_train = label"
      ],
      "metadata": {
        "id": "2qTMLFxGvWcg"
      },
      "execution_count": null,
      "outputs": []
    },
    {
      "cell_type": "code",
      "source": [
        "#Melakukan Pemodelan data\n",
        "from sklearn.tree import DecisionTreeClassifier\n",
        "from sklearn import tree\n",
        "model=tree.DecisionTreeClassifier(random_state=0, max_depth=None, min_samples_split=2, min_samples_leaf=1,min_weight_fraction_leaf=0,max_leaf_nodes=None,min_impurity_decrease=0)\n",
        "clf = model.fit(atribut1, label)"
      ],
      "metadata": {
        "id": "a7id5LWcUlff"
      },
      "execution_count": null,
      "outputs": []
    },
    {
      "cell_type": "code",
      "source": [
        "pred = model.predict(atribut1)\n",
        "len(pred)"
      ],
      "metadata": {
        "id": "zw5kWegrUpOz"
      },
      "execution_count": null,
      "outputs": []
    },
    {
      "cell_type": "code",
      "source": [
        "hasil = pd.DataFrame(pred, columns = [\"label\"])\n",
        "hasil.head()"
      ],
      "metadata": {
        "id": "jGA4Y_1FUzu0"
      },
      "execution_count": null,
      "outputs": []
    },
    {
      "cell_type": "markdown",
      "source": [
        "**Data Evaluation**"
      ],
      "metadata": {
        "id": "cf37pBCo2xfX"
      }
    },
    {
      "cell_type": "code",
      "source": [
        "from sklearn.metrics import confusion_matrix\n",
        "from sklearn.metrics import classification_report\n",
        "from sklearn.metrics import accuracy_score "
      ],
      "metadata": {
        "id": "gCZAbVffz9JO"
      },
      "execution_count": null,
      "outputs": []
    },
    {
      "cell_type": "code",
      "source": [
        "# Melihat akurasi serta kevalidasian data\n",
        "cm1 =confusion_matrix(hasil ,label)\n",
        "print(\"confusion matrix\")\n",
        "print(cm1)\n",
        "akurasi1=classification_report(hasil ,label)\n",
        "print(\"tingkat akurasi algoritma Naive Bayes\")\n",
        "print(\"Akurasi :\", akurasi1)\n",
        "akurasi1=accuracy_score(hasil ,label) \n",
        "print(\"Tingkat Akurasi :%d persen\"%(akurasi1*100))"
      ],
      "metadata": {
        "id": "UpHbXpkIU3rk"
      },
      "execution_count": null,
      "outputs": []
    },
    {
      "cell_type": "markdown",
      "source": [
        "**Data Prediction**\n",
        "\n",
        "Merupakan tahap prediksi data terhadap data yang sudah diberi pada tahap 2 kompetisi"
      ],
      "metadata": {
        "id": "r7l-vpnV0B40"
      }
    },
    {
      "cell_type": "code",
      "source": [
        "data2 = pd.read_csv(\"/content/drive/MyDrive/Healthkathon_2022/Healthkathon 2022 - Machine Learning Tahap 2/sampling2_healthkathon2022_sep.csv\")\n",
        "data2.head()"
      ],
      "metadata": {
        "id": "RpqIeftqv2LS"
      },
      "execution_count": null,
      "outputs": []
    },
    {
      "cell_type": "code",
      "source": [
        "data2.shape"
      ],
      "metadata": {
        "id": "222xA3Irv9Rx"
      },
      "execution_count": null,
      "outputs": []
    },
    {
      "cell_type": "code",
      "source": [
        "diag2 = pd.read_csv(\"/content/drive/MyDrive/Healthkathon_2022/Healthkathon 2022 - Machine Learning Tahap 2/sampling2_healthkathon2022_diagnosa.csv\")\n",
        "diag2.head()"
      ],
      "metadata": {
        "id": "F4g4huImwAxW"
      },
      "execution_count": null,
      "outputs": []
    },
    {
      "cell_type": "code",
      "source": [
        "proc2 = pd.read_csv(\"/content/drive/MyDrive/Healthkathon_2022/Healthkathon 2022 - Machine Learning Tahap 2/sampling2_healthkathon_2022_procedure.csv\")\n",
        "proc2.head()"
      ],
      "metadata": {
        "id": "CCBsFBwcwA4B"
      },
      "execution_count": null,
      "outputs": []
    },
    {
      "cell_type": "code",
      "source": [
        "from datetime import datetime\n",
        "data2[\"tgldatang\"] = pd.to_datetime(data2[\"tgldatang\"])\n",
        "data2[\"tglpulang\"] = pd.to_datetime(data2[\"tglpulang\"])"
      ],
      "metadata": {
        "id": "jmKwxnIIwJB7"
      },
      "execution_count": null,
      "outputs": []
    },
    {
      "cell_type": "code",
      "source": [
        "lama =data2[\"tglpulang\"].dt.date - data2[\"tgldatang\"].dt.date\n",
        "lama = lama.dt.days\n",
        "delta = pd.DataFrame(lama, columns = [\"lama\"])"
      ],
      "metadata": {
        "id": "_u4f1uCDwJOJ"
      },
      "execution_count": null,
      "outputs": []
    },
    {
      "cell_type": "code",
      "source": [
        "data2 = data2.drop(columns = [\"tgldatang\", \"tglpulang\"])\n",
        "data2 = pd.concat([data2, delta], axis = 1)"
      ],
      "metadata": {
        "id": "nHHnue0jwJQk"
      },
      "execution_count": null,
      "outputs": []
    },
    {
      "cell_type": "code",
      "source": [
        "data2.head()"
      ],
      "metadata": {
        "id": "HY_RxhIjwJUG"
      },
      "execution_count": null,
      "outputs": []
    },
    {
      "cell_type": "code",
      "source": [
        "#Menghitung jumlah diagnosa yang diberikan kepada pasien\n",
        "diag2 = diag2.pivot_table(columns=['id'], aggfunc='size')\n",
        "diag2 = diag2.reset_index()\n",
        "diag2.columns = [\"id\", \"jml_diag\"]\n"
      ],
      "metadata": {
        "id": "xSlJS8tiwUgp"
      },
      "execution_count": null,
      "outputs": []
    },
    {
      "cell_type": "code",
      "source": [
        "df2 = pd.merge(data2, diag2, on = \"id\", how = \"left\")\n",
        "df2.shape"
      ],
      "metadata": {
        "id": "UTGbNyCEwUoZ"
      },
      "execution_count": null,
      "outputs": []
    },
    {
      "cell_type": "code",
      "source": [
        "#Menghitung jumlah prosedure yang diberikan kepada pasien\n",
        "proc2 = proc2.pivot_table(columns=['id'], aggfunc='size')\n",
        "proc2 = proc2.reset_index()\n",
        "proc2.columns = [\"id\", \"jml_procc\"]"
      ],
      "metadata": {
        "id": "6Txgc5WTwUzV"
      },
      "execution_count": null,
      "outputs": []
    },
    {
      "cell_type": "code",
      "source": [
        "proc2 = proc2.drop_duplicates(subset = [\"id\"])\n",
        "proc2.shape"
      ],
      "metadata": {
        "id": "EwmlqB5YwfLs"
      },
      "execution_count": null,
      "outputs": []
    },
    {
      "cell_type": "code",
      "source": [
        "df2 = pd.merge(df2, proc2, on = \"id\", how = \"left\")\n",
        "df2.shape"
      ],
      "metadata": {
        "id": "TGXCPPu8wfON"
      },
      "execution_count": null,
      "outputs": []
    },
    {
      "cell_type": "code",
      "source": [
        "df2.isna().sum()"
      ],
      "metadata": {
        "id": "xDEWBC-JwfQt"
      },
      "execution_count": null,
      "outputs": []
    },
    {
      "cell_type": "code",
      "source": [
        "df2[\"jenkel\"] = df2[\"jenkel\"].fillna(\"p\")\n",
        "df2[\"pisat\"] = df2[\"pisat\"].fillna(0)\n",
        "df2[\"politujuan\"] = df2[\"politujuan\"].fillna(\"tidak\")\n",
        "df2[\"diagfktp\"] = df2[\"diagfktp\"].fillna(\"P03.4\")\n",
        "df2[\"biaya\"] = df2[\"biaya\"].fillna(237150.0)\n",
        "df2[\"kdsa\"] = df2[\"kdsa\"].fillna(\"None\")\n",
        "df2[\"kdsp\"] = df2[\"kdsp\"].fillna(\"None\")\n",
        "df2[\"kdsr\"] = df2[\"kdsr\"].fillna(\"None\")\n",
        "df2[\"kdsi\"] = df2[\"kdsi\"].fillna(\"None\")\n",
        "df2[\"kdsd\"] = df2[\"kdsd\"].fillna(\"None\")\n",
        "df2[\"jml_diag\"] = df2[\"jml_diag\"].fillna(0)\n",
        "df2[\"jml_procc\"] = df2[\"jml_procc\"].fillna(0)\n",
        "df2[\"jenispulang\"] = df2[\"jenispulang\"].fillna(1.0)"
      ],
      "metadata": {
        "id": "zvxf9hRlwfUN"
      },
      "execution_count": null,
      "outputs": []
    },
    {
      "cell_type": "code",
      "source": [
        "df_str2 = df2[[\"typefaskes\", \"jenkel\", \"politujuan\", \"diagfktp\", \"cbg\",\"kdsa\",\"kdsp\", \"kdsr\", \"kdsi\", \"kdsd\"]]\n",
        "df_str2 = df_str2.apply(lambda x: pd.factorize(x)[0])\n",
        "df_str2.head()"
      ],
      "metadata": {
        "id": "_ihlZYjUwrHm"
      },
      "execution_count": null,
      "outputs": []
    },
    {
      "cell_type": "code",
      "source": [
        "df_int2 = df2[[\"dati2\", \"usia\", \"jenispel\",\"pisat\", \"biaya\", \"jenispulang\", \"kelasrawat\", \"lama\",  \"jml_diag\", \"jml_procc\"]]\n",
        "df_int2.head()"
      ],
      "metadata": {
        "id": "MHsPGf7DwrP5"
      },
      "execution_count": null,
      "outputs": []
    },
    {
      "cell_type": "code",
      "source": [
        "data_pre2 = pd.concat([df_int2, df_str2], axis = 1)\n",
        "data_pre2.head()"
      ],
      "metadata": {
        "id": "fgAPohVcwyL2"
      },
      "execution_count": null,
      "outputs": []
    },
    {
      "cell_type": "code",
      "source": [
        "from sklearn.preprocessing import StandardScaler\n",
        "from sklearn import preprocessing\n",
        "scaler = StandardScaler()\n",
        "scaler.fit(data_pre2)\n",
        "atribut2 = scaler.transform(data_pre2)\n",
        "atribut2 = pd.DataFrame(atribut2, index = data_pre2.index, columns = data_pre2.columns)\n",
        "atribut2.head()"
      ],
      "metadata": {
        "id": "venx5fqow2AD"
      },
      "execution_count": null,
      "outputs": []
    },
    {
      "cell_type": "code",
      "source": [
        "atribut2 = atribut2[[\"dati2\", \"usia\", \"jenispel\", \"pisat\", \"biaya\", \"jenispulang\", \"kelasrawat\", \"lama\", \"jml_diag\", \"typefaskes\", \"jenkel\", \"politujuan\", \"diagfktp\", \"cbg\", \"kdsa\", \"kdsp\", \"kdsr\", \"kdsi\", \"kdsd\", \"jml_procc\"]]\n",
        "atribut2.shape"
      ],
      "metadata": {
        "id": "FE9e--LTw7FP"
      },
      "execution_count": null,
      "outputs": []
    },
    {
      "cell_type": "code",
      "source": [
        "pred2 = model.predict(atribut2)\n",
        "len(pred2)"
      ],
      "metadata": {
        "id": "nWthKR00wyWa"
      },
      "execution_count": null,
      "outputs": []
    },
    {
      "cell_type": "code",
      "source": [
        "hasil2 = pd.DataFrame(pred2, columns = [\"label\"])\n",
        "hasil2.head()"
      ],
      "metadata": {
        "id": "q5gEVVMrxecj"
      },
      "execution_count": null,
      "outputs": []
    },
    {
      "cell_type": "code",
      "source": [
        "result2 = pd.concat([data2[\"id\"], hasil2], axis = 1)\n",
        "result2.shape"
      ],
      "metadata": {
        "id": "DdstBua7xehb"
      },
      "execution_count": null,
      "outputs": []
    },
    {
      "cell_type": "code",
      "source": [
        "result2.head()"
      ],
      "metadata": {
        "id": "cMhZEABGxzZp"
      },
      "execution_count": null,
      "outputs": []
    },
    {
      "cell_type": "code",
      "source": [
        "from google.colab import drive\n",
        "drive.mount('drive')\n",
        "result2.to_csv('/content/drive/MyDrive/Healthkathon_2022/Healthkathon 2022 - Machine Learning Tahap 2/answer.csv', encoding='utf-8', index=False)"
      ],
      "metadata": {
        "id": "6Gjq9l71xzwY"
      },
      "execution_count": null,
      "outputs": []
    }
  ]
}